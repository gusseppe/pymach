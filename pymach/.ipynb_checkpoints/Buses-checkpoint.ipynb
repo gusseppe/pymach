{
 "cells": [
  {
   "cell_type": "code",
   "execution_count": 29,
   "metadata": {
    "collapsed": true
   },
   "outputs": [],
   "source": [
    "import pandas as pd\n",
    "import numpy as np\n",
    "import seaborn as sns\n",
    "import sklearn\n",
    "import matplotlib.pyplot as plt\n",
    "%matplotlib inline\n",
    "\n",
    "from sklearn.preprocessing import LabelEncoder\n",
    "from sklearn.ensemble import GradientBoostingClassifier, ExtraTreesClassifier\n",
    "\n",
    "plt.rcParams['axes.labelsize'] = 20\n",
    "plt.rcParams['axes.titlesize'] = 20\n",
    "plt.rcParams['xtick.labelsize'] = 18\n",
    "plt.rcParams['ytick.labelsize'] = 18\n",
    "plt.rcParams['legend.fontsize'] = 14\n",
    "\n"
   ]
  },
  {
   "cell_type": "code",
   "execution_count": 30,
   "metadata": {},
   "outputs": [],
   "source": [
    "data = pd.read_csv('datasets/Buses/buses_1458098.csv', \n",
    "                   names=['busID','ProximaParada','Ruta','Orientacion','rangoHora','tiempoRecorrido'])"
   ]
  },
  {
   "cell_type": "code",
   "execution_count": 31,
   "metadata": {},
   "outputs": [
    {
     "data": {
      "text/html": [
       "<div>\n",
       "<table border=\"1\" class=\"dataframe\">\n",
       "  <thead>\n",
       "    <tr style=\"text-align: right;\">\n",
       "      <th></th>\n",
       "      <th>busID</th>\n",
       "      <th>ProximaParada</th>\n",
       "      <th>Ruta</th>\n",
       "      <th>Orientacion</th>\n",
       "      <th>rangoHora</th>\n",
       "      <th>tiempoRecorrido</th>\n",
       "    </tr>\n",
       "  </thead>\n",
       "  <tbody>\n",
       "    <tr>\n",
       "      <th>0</th>\n",
       "      <td>3433</td>\n",
       "      <td>MTABC_BXM8</td>\n",
       "      <td>MTA_450451</td>\n",
       "      <td>1.0</td>\n",
       "      <td>2.0</td>\n",
       "      <td>856.0</td>\n",
       "    </tr>\n",
       "    <tr>\n",
       "      <th>1</th>\n",
       "      <td>3433</td>\n",
       "      <td>MTABC_BXM8</td>\n",
       "      <td>MTA_450451</td>\n",
       "      <td>1.0</td>\n",
       "      <td>5.0</td>\n",
       "      <td>636.0</td>\n",
       "    </tr>\n",
       "    <tr>\n",
       "      <th>2</th>\n",
       "      <td>3984</td>\n",
       "      <td>MTA NYCT_Q54</td>\n",
       "      <td>MTA_505205</td>\n",
       "      <td>1.0</td>\n",
       "      <td>5.0</td>\n",
       "      <td>96.0</td>\n",
       "    </tr>\n",
       "    <tr>\n",
       "      <th>3</th>\n",
       "      <td>3984</td>\n",
       "      <td>MTA NYCT_Q54</td>\n",
       "      <td>MTA_505205</td>\n",
       "      <td>1.0</td>\n",
       "      <td>7.5</td>\n",
       "      <td>32.0</td>\n",
       "    </tr>\n",
       "    <tr>\n",
       "      <th>4</th>\n",
       "      <td>5517</td>\n",
       "      <td>MTABC_Q10</td>\n",
       "      <td>MTA_550335</td>\n",
       "      <td>0.0</td>\n",
       "      <td>11.5</td>\n",
       "      <td>31.0</td>\n",
       "    </tr>\n",
       "  </tbody>\n",
       "</table>\n",
       "</div>"
      ],
      "text/plain": [
       "   busID ProximaParada        Ruta  Orientacion  rangoHora  tiempoRecorrido\n",
       "0   3433    MTABC_BXM8  MTA_450451          1.0        2.0            856.0\n",
       "1   3433    MTABC_BXM8  MTA_450451          1.0        5.0            636.0\n",
       "2   3984  MTA NYCT_Q54  MTA_505205          1.0        5.0             96.0\n",
       "3   3984  MTA NYCT_Q54  MTA_505205          1.0        7.5             32.0\n",
       "4   5517     MTABC_Q10  MTA_550335          0.0       11.5             31.0"
      ]
     },
     "execution_count": 31,
     "metadata": {},
     "output_type": "execute_result"
    }
   ],
   "source": [
    "data.head()"
   ]
  },
  {
   "cell_type": "code",
   "execution_count": 32,
   "metadata": {
    "collapsed": true
   },
   "outputs": [],
   "source": [
    "data.dropna(inplace=True)"
   ]
  },
  {
   "cell_type": "code",
   "execution_count": 33,
   "metadata": {},
   "outputs": [
    {
     "name": "stdout",
     "output_type": "stream",
     "text": [
      "Size without nan:  1449200\n",
      "Size Total:  1449200\n",
      "Percentage:  100.0\n"
     ]
    }
   ],
   "source": [
    "from __future__ import division\n",
    "\n",
    "print 'Size without nan: ', len(data.Ruta.dropna())\n",
    "print 'Size Total: ', len(data.Ruta)\n",
    "print 'Percentage: ', (len(data.Ruta.dropna())/len(data.Ruta))*100\n",
    "\n",
    "# freq = data[\"Ruta\"].value_counts().sort_values(ascending=False)\n",
    "# freq.plot(kind='bar', title='Ruta', figsize=(12.,6.))\n",
    "# plt.ylabel('Frequency')\n",
    "# plt.show()\n",
    "# plt.close()"
   ]
  },
  {
   "cell_type": "code",
   "execution_count": null,
   "metadata": {
    "collapsed": true
   },
   "outputs": [],
   "source": []
  },
  {
   "cell_type": "code",
   "execution_count": 34,
   "metadata": {},
   "outputs": [],
   "source": [
    "from collections import defaultdict\n",
    "encodersDict = defaultdict(LabelEncoder)\n",
    "\n",
    "def categoricalColumns(df):\n",
    "    df = df.copy()\n",
    "    cols = df.columns\n",
    "    cols_numeric = df._get_numeric_data().columns\n",
    "    return list(set(cols) - set(cols_numeric))\n",
    "\n",
    "def categoricalToNumeric(df):\n",
    "    df = df.copy()\n",
    "    cat_columns = categoricalColumns(df)\n",
    "    print('Categorical columns: ', cat_columns)\n",
    "    print('Size columns: ', len(cat_columns))\n",
    "    if cat_columns:\n",
    "        for category in cat_columns:\n",
    "#             encoder = LabelEncoder()\n",
    "#             df.loc[:, category] = encoder.fit_transform(df[category])\n",
    "            x = df[category]\n",
    "            df.loc[:, category] = encodersDict[x.name].fit_transform(x)\n",
    "\n",
    "    return df"
   ]
  },
  {
   "cell_type": "code",
   "execution_count": 35,
   "metadata": {},
   "outputs": [
    {
     "name": "stdout",
     "output_type": "stream",
     "text": [
      "('Categorical columns: ', ['Ruta', 'ProximaParada'])\n",
      "('Size columns: ', 2)\n"
     ]
    }
   ],
   "source": [
    "dataNew = categoricalToNumeric(data)"
   ]
  },
  {
   "cell_type": "code",
   "execution_count": 36,
   "metadata": {},
   "outputs": [
    {
     "data": {
      "text/html": [
       "<div>\n",
       "<table border=\"1\" class=\"dataframe\">\n",
       "  <thead>\n",
       "    <tr style=\"text-align: right;\">\n",
       "      <th></th>\n",
       "      <th>busID</th>\n",
       "      <th>ProximaParada</th>\n",
       "      <th>Ruta</th>\n",
       "      <th>Orientacion</th>\n",
       "      <th>rangoHora</th>\n",
       "      <th>tiempoRecorrido</th>\n",
       "    </tr>\n",
       "  </thead>\n",
       "  <tbody>\n",
       "    <tr>\n",
       "      <th>0</th>\n",
       "      <td>3433</td>\n",
       "      <td>249</td>\n",
       "      <td>9735</td>\n",
       "      <td>1.0</td>\n",
       "      <td>2.0</td>\n",
       "      <td>856.0</td>\n",
       "    </tr>\n",
       "    <tr>\n",
       "      <th>1</th>\n",
       "      <td>3433</td>\n",
       "      <td>249</td>\n",
       "      <td>9735</td>\n",
       "      <td>1.0</td>\n",
       "      <td>5.0</td>\n",
       "      <td>636.0</td>\n",
       "    </tr>\n",
       "    <tr>\n",
       "      <th>2</th>\n",
       "      <td>3984</td>\n",
       "      <td>160</td>\n",
       "      <td>12237</td>\n",
       "      <td>1.0</td>\n",
       "      <td>5.0</td>\n",
       "      <td>96.0</td>\n",
       "    </tr>\n",
       "    <tr>\n",
       "      <th>3</th>\n",
       "      <td>3984</td>\n",
       "      <td>160</td>\n",
       "      <td>12237</td>\n",
       "      <td>1.0</td>\n",
       "      <td>7.5</td>\n",
       "      <td>32.0</td>\n",
       "    </tr>\n",
       "    <tr>\n",
       "      <th>4</th>\n",
       "      <td>5517</td>\n",
       "      <td>255</td>\n",
       "      <td>12521</td>\n",
       "      <td>0.0</td>\n",
       "      <td>11.5</td>\n",
       "      <td>31.0</td>\n",
       "    </tr>\n",
       "  </tbody>\n",
       "</table>\n",
       "</div>"
      ],
      "text/plain": [
       "   busID  ProximaParada   Ruta  Orientacion  rangoHora  tiempoRecorrido\n",
       "0   3433            249   9735          1.0        2.0            856.0\n",
       "1   3433            249   9735          1.0        5.0            636.0\n",
       "2   3984            160  12237          1.0        5.0             96.0\n",
       "3   3984            160  12237          1.0        7.5             32.0\n",
       "4   5517            255  12521          0.0       11.5             31.0"
      ]
     },
     "execution_count": 36,
     "metadata": {},
     "output_type": "execute_result"
    }
   ],
   "source": [
    "dataNew.head()"
   ]
  },
  {
   "cell_type": "code",
   "execution_count": 37,
   "metadata": {
    "collapsed": true
   },
   "outputs": [],
   "source": [
    "dataNew.to_csv(\"datasets/Buses/buses_1458098_filtered.csv\", index=False)"
   ]
  },
  {
   "cell_type": "code",
   "execution_count": 38,
   "metadata": {
    "collapsed": true
   },
   "outputs": [],
   "source": [
    "from sklearn.model_selection import cross_val_score\n",
    "\n",
    "def modelfit(alg, dtrain, predictors, performCV=True, printFeatureImportance=True, cv_folds=5):\n",
    "    #Fit the algorithm on the data\n",
    "    alg.fit(dtrain[predictors], dtrain['Ruta'])\n",
    "        \n",
    "    #Predict training set:\n",
    "    dtrain_predictions = alg.predict(dtrain[predictors])\n",
    "    dtrain_predprob = alg.predict_proba(dtrain[predictors])[:,1]\n",
    "    \n",
    "#     Perform cross-validation:\n",
    "#     print('Testing')\n",
    "#     if performCV:\n",
    "#         cv_score = cross_val_score(alg, dtrain[predictors], dtrain['accident_type'], cv=cv_folds, scoring='roc_auc')\n",
    "#     print('Testing')    \n",
    "#     #Print model report:\n",
    "#     print \"\\nModel Report\"\n",
    "#     print \"Accuracy : %.4g\" % metrics.accuracy_score(dtrain['accident_type'].values, dtrain_predictions)\n",
    "#     print \"AUC Score (Train): %f\" % metrics.roc_auc_score(dtrain['accident_type'], dtrain_predprob)\n",
    "    \n",
    "#     if performCV:\n",
    "#         print \"CV Score : Mean - %.7g | Std - %.7g | Min - %.7g | Max - %.7g\" % (np.mean(cv_score),np.std(cv_score),np.min(cv_score),np.max(cv_score))\n",
    "        \n",
    "    #Print Feature Importance:\n",
    "    if printFeatureImportance:\n",
    "        feat_imp = pd.Series(alg.feature_importances_, predictors).sort_values(ascending=False)\n",
    "        feat_imp.plot(kind='bar', title='Feature Importances', figsize=(14.,7.))\n",
    "        plt.ylabel('Feature Importance Score')\n",
    "        plt.show()\n",
    "        plt.close()\n",
    "    \n",
    "    return feat_imp\n"
   ]
  },
  {
   "cell_type": "code",
   "execution_count": 39,
   "metadata": {},
   "outputs": [
    {
     "name": "stdout",
     "output_type": "stream",
     "text": [
      "CPU times: user 7 µs, sys: 3 µs, total: 10 µs\n",
      "Wall time: 18.1 µs\n"
     ]
    }
   ],
   "source": [
    "%%time\n",
    "target = 'Ruta'\n",
    "#IDcol = 'mineid'\n",
    "\n",
    "# predictors = [x for x in dataNew if x not in [target]]\n",
    "# model = ExtraTreesClassifier(random_state=10)\n",
    "# fi = modelfit(model, dataNew, predictors)\n",
    "# print fi.head(6)\n"
   ]
  },
  {
   "cell_type": "code",
   "execution_count": 40,
   "metadata": {
    "collapsed": true
   },
   "outputs": [],
   "source": [
    "# from collections import OrderedDict\n",
    "\n",
    "# dictFI = OrderedDict(fi)"
   ]
  },
  {
   "cell_type": "code",
   "execution_count": 41,
   "metadata": {},
   "outputs": [],
   "source": [
    "# scatter = dictFI.keys()\n",
    "# scatter.append('Ruta')\n",
    "# scatter"
   ]
  },
  {
   "cell_type": "code",
   "execution_count": 42,
   "metadata": {},
   "outputs": [],
   "source": [
    "# %%time\n",
    "# sns.pairplot(dataNew[scatter], hue=\"Ruta\", size=3)\n",
    "# plt.show()"
   ]
  }
 ],
 "metadata": {
  "kernelspec": {
   "display_name": "Python 3",
   "language": "python",
   "name": "python3"
  },
  "language_info": {
   "codemirror_mode": {
    "name": "ipython",
    "version": 3
   },
   "file_extension": ".py",
   "mimetype": "text/x-python",
   "name": "python",
   "nbconvert_exporter": "python",
   "pygments_lexer": "ipython3",
   "version": "3.6.3"
  },
  "widgets": {
   "state": {},
   "version": "1.1.1"
  }
 },
 "nbformat": 4,
 "nbformat_minor": 2
}
